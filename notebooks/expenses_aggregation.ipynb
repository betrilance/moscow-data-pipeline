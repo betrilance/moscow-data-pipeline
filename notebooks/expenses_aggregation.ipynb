{
 "cells": [
  {
   "cell_type": "code",
   "execution_count": 1,
   "metadata": {},
   "outputs": [],
   "source": [
    "import pandas as pd\n",
    "import os\n",
    "import glob\n",
    "import re\n",
    "from natasha import MorphVocab, AddrExtractor"
   ]
  },
  {
   "cell_type": "code",
   "execution_count": 2,
   "metadata": {},
   "outputs": [],
   "source": [
    "data_path = '../data/'"
   ]
  },
  {
   "cell_type": "code",
   "execution_count": 3,
   "metadata": {},
   "outputs": [
    {
     "name": "stdout",
     "output_type": "stream",
     "text": [
      "(23150, 10)\n"
     ]
    }
   ],
   "source": [
    "exp_files = glob.glob(os.path.join(data_path + 'preprocessed/Expenses', '*.feather'))\n",
    "exp_dfs = []\n",
    "for filename in exp_files:\n",
    "    exp_dfs.append(pd.read_feather(filename))\n",
    "expenses_data = pd.concat(exp_dfs, axis=0, ignore_index=True)\n",
    "print(expenses_data.shape)"
   ]
  },
  {
   "cell_type": "code",
   "execution_count": 4,
   "metadata": {},
   "outputs": [
    {
     "data": {
      "text/plain": [
       "Год сметы                        1\n",
       "Смета                           13\n",
       "Подразделение БР                20\n",
       "Код статьи                       1\n",
       "Код вида расходов                5\n",
       "Наименование вида расходов       5\n",
       "Направление расходов           249\n",
       "Отнесено                      2620\n",
       "Конечный остаток              2620\n",
       "Дата проведения                213\n",
       "dtype: int64"
      ]
     },
     "execution_count": 4,
     "metadata": {},
     "output_type": "execute_result"
    }
   ],
   "source": [
    "unqie_values = expenses_data[expenses_data['Год сметы'] == '2020'].apply(pd.Series.nunique)\n",
    "unqie_values"
   ]
  },
  {
   "cell_type": "code",
   "execution_count": 5,
   "metadata": {},
   "outputs": [],
   "source": [
    "expenses_data = expenses_data[expenses_data.columns.difference(unqie_values[unqie_values == 1].index)]"
   ]
  },
  {
   "cell_type": "code",
   "execution_count": 6,
   "metadata": {},
   "outputs": [
    {
     "data": {
      "text/plain": [
       "0"
      ]
     },
     "execution_count": 6,
     "metadata": {},
     "output_type": "execute_result"
    }
   ],
   "source": [
    "expenses_data[expenses_data['Конечный остаток'] != expenses_data['Отнесено']].shape[0]"
   ]
  },
  {
   "cell_type": "code",
   "execution_count": 7,
   "metadata": {},
   "outputs": [],
   "source": [
    "expenses_data.drop(columns=['Конечный остаток', 'Смета'], inplace=True)"
   ]
  },
  {
   "cell_type": "code",
   "execution_count": 8,
   "metadata": {},
   "outputs": [
    {
     "data": {
      "text/plain": [
       "Код вида расходов\n",
       "15    23150\n",
       "Name: count, dtype: int64"
      ]
     },
     "execution_count": 8,
     "metadata": {},
     "output_type": "execute_result"
    }
   ],
   "source": [
    "expenses_data['Код вида расходов'].apply(len).value_counts()"
   ]
  },
  {
   "cell_type": "code",
   "execution_count": 9,
   "metadata": {},
   "outputs": [
    {
     "data": {
      "text/plain": [
       "Код вида расходов\n",
       "True    23150\n",
       "Name: count, dtype: int64"
      ]
     },
     "execution_count": 9,
     "metadata": {},
     "output_type": "execute_result"
    }
   ],
   "source": [
    "expenses_data['Код вида расходов'].apply(lambda c: c[-4:] == '0000').value_counts()"
   ]
  },
  {
   "cell_type": "code",
   "execution_count": 10,
   "metadata": {},
   "outputs": [],
   "source": [
    "expenses_data['Код вида расходов'] = expenses_data['Код вида расходов'].apply(lambda c: c[:-4])"
   ]
  },
  {
   "cell_type": "code",
   "execution_count": 11,
   "metadata": {},
   "outputs": [],
   "source": [
    "expenses_data['Направление расходов'] = expenses_data.apply(\n",
    "    lambda exp: exp['Направление расходов']\\\n",
    "        .replace(exp['Наименование вида расходов'], '')\\\n",
    "        .replace(exp['Код вида расходов'], '')\\\n",
    "        .replace('ст.' + exp['Код вида расходов'][:-3], '')\\\n",
    "        .replace(exp['Код вида расходов'][:-3], '')\\\n",
    "        .replace('Расходы прошлого года', '')\\\n",
    "        .replace('зд', '').replace('Здание', '')\\\n",
    "        .replace('Гараж', '').replace('Пристройка', '')\n",
    "        .strip(), axis=1\n",
    ")"
   ]
  },
  {
   "cell_type": "code",
   "execution_count": 12,
   "metadata": {},
   "outputs": [],
   "source": [
    "addr_extractor = AddrExtractor(MorphVocab())\n",
    "\n",
    "expenses_data['Адрес объекта'] = expenses_data['Направление расходов'].apply(\n",
    "    lambda x: [i.fact.as_json for i in addr_extractor(x)]\n",
    ")"
   ]
  },
  {
   "cell_type": "code",
   "execution_count": 13,
   "metadata": {},
   "outputs": [
    {
     "data": {
      "text/plain": [
       "0.23460043196544275"
      ]
     },
     "execution_count": 13,
     "metadata": {},
     "output_type": "execute_result"
    }
   ],
   "source": [
    "expenses_data[expenses_data['Адрес объекта'].apply(lambda l: l == [])].shape[0] / 23150"
   ]
  },
  {
   "cell_type": "code",
   "execution_count": 19,
   "metadata": {},
   "outputs": [
    {
     "data": {
      "text/plain": [
       "Код вида расходов\n",
       "132.0113.00    2419\n",
       "132.0111.00    1267\n",
       "132.0112.00     921\n",
       "134.1100.00     420\n",
       "134.1000.03     128\n",
       "134.1100.03      75\n",
       "132.0114.00      43\n",
       "134.1000.02      43\n",
       "134.1100.01      38\n",
       "134.1000.01      38\n",
       "134.1100.02      36\n",
       "134.1100.05       2\n",
       "134.1000.05       1\n",
       "Name: count, dtype: int64"
      ]
     },
     "execution_count": 19,
     "metadata": {},
     "output_type": "execute_result"
    }
   ],
   "source": [
    "expenses_data.loc[expenses_data['Адрес объекта'].apply(lambda l: l == []), 'Код вида расходов'].value_counts()"
   ]
  },
  {
   "cell_type": "code",
   "execution_count": 26,
   "metadata": {},
   "outputs": [
    {
     "data": {
      "text/plain": [
       "Направление расходов\n",
       "Другие расходы.Оплата водоснабжения                                           120\n",
       "                                                                               81\n",
       "Оплата водоотведения                                                           78\n",
       "Оплата водоснабжения                                                           73\n",
       "Другие расходы.Оплата водоотведения                                            63\n",
       "                                                                             ... \n",
       ". ул.Тихоокеанская, 175А                                                        1\n",
       "Оплата за горячее водоснабжение, ул Пролетарская 17 (гараж)  - Отд Магадан      1\n",
       "гараж, ул. Пролетарская, 8                                                      1\n",
       ", признанные после отчетной даты..Вилючинск, м-н Центральный, 5                 1\n",
       ".  ул. Южная                                                                    1\n",
       "Name: count, Length: 276, dtype: int64"
      ]
     },
     "execution_count": 26,
     "metadata": {},
     "output_type": "execute_result"
    }
   ],
   "source": [
    "expenses_data.loc[expenses_data['Код вида расходов'] == '132.0113.00', 'Направление расходов'].value_counts()"
   ]
  },
  {
   "cell_type": "code",
   "execution_count": 27,
   "metadata": {},
   "outputs": [],
   "source": [
    "expenses_data = expenses_data[~expenses_data['Адрес объекта'].apply(lambda l: l == [])].reset_index(drop=True)"
   ]
  },
  {
   "cell_type": "code",
   "execution_count": 31,
   "metadata": {},
   "outputs": [
    {
     "data": {
      "text/html": [
       "<div>\n",
       "<style scoped>\n",
       "    .dataframe tbody tr th:only-of-type {\n",
       "        vertical-align: middle;\n",
       "    }\n",
       "\n",
       "    .dataframe tbody tr th {\n",
       "        vertical-align: top;\n",
       "    }\n",
       "\n",
       "    .dataframe thead th {\n",
       "        text-align: right;\n",
       "    }\n",
       "</style>\n",
       "<table border=\"1\" class=\"dataframe\">\n",
       "  <thead>\n",
       "    <tr style=\"text-align: right;\">\n",
       "      <th></th>\n",
       "      <th>Дата проведения</th>\n",
       "      <th>Код вида расходов</th>\n",
       "      <th>Наименование вида расходов</th>\n",
       "      <th>Направление расходов</th>\n",
       "      <th>Отнесено</th>\n",
       "      <th>Подразделение БР</th>\n",
       "      <th>Адрес объекта</th>\n",
       "    </tr>\n",
       "  </thead>\n",
       "  <tbody>\n",
       "    <tr>\n",
       "      <th>0</th>\n",
       "      <td>10.02.2016</td>\n",
       "      <td>132.0111.00</td>\n",
       "      <td>Оплата потребления электроэнергии</td>\n",
       "      <td>.  ул. Мордовцева, 6.</td>\n",
       "      <td>16294.01</td>\n",
       "      <td>Дальневосточное главное управление Центральног...</td>\n",
       "      <td>[{'value': 'Мордовцева', 'type': 'улица'}]</td>\n",
       "    </tr>\n",
       "    <tr>\n",
       "      <th>1</th>\n",
       "      <td>24.02.2016</td>\n",
       "      <td>132.0111.00</td>\n",
       "      <td>Оплата потребления электроэнергии</td>\n",
       "      <td>ул.Светланская, 73</td>\n",
       "      <td>32149.60</td>\n",
       "      <td>Дальневосточное главное управление Центральног...</td>\n",
       "      <td>[{'value': 'Светланская', 'type': 'улица'}]</td>\n",
       "    </tr>\n",
       "    <tr>\n",
       "      <th>2</th>\n",
       "      <td>23.03.2016</td>\n",
       "      <td>132.0111.00</td>\n",
       "      <td>Оплата потребления электроэнергии</td>\n",
       "      <td>ул.Светланская, 73</td>\n",
       "      <td>36805.90</td>\n",
       "      <td>Дальневосточное главное управление Центральног...</td>\n",
       "      <td>[{'value': 'Светланская', 'type': 'улица'}]</td>\n",
       "    </tr>\n",
       "    <tr>\n",
       "      <th>3</th>\n",
       "      <td>21.04.2016</td>\n",
       "      <td>132.0111.00</td>\n",
       "      <td>Оплата потребления электроэнергии</td>\n",
       "      <td>ул.Светланская, 73</td>\n",
       "      <td>27244.49</td>\n",
       "      <td>Дальневосточное главное управление Центральног...</td>\n",
       "      <td>[{'value': 'Светланская', 'type': 'улица'}]</td>\n",
       "    </tr>\n",
       "    <tr>\n",
       "      <th>4</th>\n",
       "      <td>20.05.2016</td>\n",
       "      <td>132.0111.00</td>\n",
       "      <td>Оплата потребления электроэнергии</td>\n",
       "      <td>ул.Светланская, 73</td>\n",
       "      <td>24548.76</td>\n",
       "      <td>Дальневосточное главное управление Центральног...</td>\n",
       "      <td>[{'value': 'Светланская', 'type': 'улица'}]</td>\n",
       "    </tr>\n",
       "    <tr>\n",
       "      <th>...</th>\n",
       "      <td>...</td>\n",
       "      <td>...</td>\n",
       "      <td>...</td>\n",
       "      <td>...</td>\n",
       "      <td>...</td>\n",
       "      <td>...</td>\n",
       "      <td>...</td>\n",
       "    </tr>\n",
       "    <tr>\n",
       "      <th>17714</th>\n",
       "      <td>06.12.2021</td>\n",
       "      <td>134.1000.03</td>\n",
       "      <td>Оплата услуг водоснабжения, водоотведения</td>\n",
       "      <td>0000 Оплата за водоотведение по тарифам ание г...</td>\n",
       "      <td>382.67</td>\n",
       "      <td>Отделение по Хабаровскому краю Дальневосточног...</td>\n",
       "      <td>[{'value': 'Хабаровск', 'type': 'город'}, {'va...</td>\n",
       "    </tr>\n",
       "    <tr>\n",
       "      <th>17715</th>\n",
       "      <td>17.01.2022</td>\n",
       "      <td>134.1000.03</td>\n",
       "      <td>Оплата услуг водоснабжения, водоотведения</td>\n",
       "      <td>ЗО  Столовая Хабаровск. Оплата за водоотведени...</td>\n",
       "      <td>1604.80</td>\n",
       "      <td>Отделение по Хабаровскому краю Дальневосточног...</td>\n",
       "      <td>[{'value': 'Хабаровск'}, {'value': 'Хабаровск'...</td>\n",
       "    </tr>\n",
       "    <tr>\n",
       "      <th>17716</th>\n",
       "      <td>17.01.2022</td>\n",
       "      <td>134.1000.03</td>\n",
       "      <td>Оплата услуг водоснабжения, водоотведения</td>\n",
       "      <td>ЗО  Столовая Хабаровск. Оплата за водоотведени...</td>\n",
       "      <td>400.93</td>\n",
       "      <td>Отделение по Хабаровскому краю Дальневосточног...</td>\n",
       "      <td>[{'value': 'Хабаровск'}, {'value': 'Хабаровск'...</td>\n",
       "    </tr>\n",
       "    <tr>\n",
       "      <th>17717</th>\n",
       "      <td>17.01.2022</td>\n",
       "      <td>134.1000.03</td>\n",
       "      <td>Оплата услуг водоснабжения, водоотведения</td>\n",
       "      <td>ЗО  Столовая Хабаровск. Оплата за холодное вод...</td>\n",
       "      <td>380.25</td>\n",
       "      <td>Отделение по Хабаровскому краю Дальневосточног...</td>\n",
       "      <td>[{'value': 'Хабаровск'}, {'value': 'Хабаровск'...</td>\n",
       "    </tr>\n",
       "    <tr>\n",
       "      <th>17718</th>\n",
       "      <td>17.01.2022</td>\n",
       "      <td>134.1000.03</td>\n",
       "      <td>Оплата услуг водоснабжения, водоотведения</td>\n",
       "      <td>ЗО  Столовая Хабаровск. Оплата за холодное вод...</td>\n",
       "      <td>2081.38</td>\n",
       "      <td>Отделение по Хабаровскому краю Дальневосточног...</td>\n",
       "      <td>[{'value': 'Хабаровск'}, {'value': 'Хабаровск'...</td>\n",
       "    </tr>\n",
       "  </tbody>\n",
       "</table>\n",
       "<p>17719 rows × 7 columns</p>\n",
       "</div>"
      ],
      "text/plain": [
       "      Дата проведения Код вида расходов  \\\n",
       "0          10.02.2016       132.0111.00   \n",
       "1          24.02.2016       132.0111.00   \n",
       "2          23.03.2016       132.0111.00   \n",
       "3          21.04.2016       132.0111.00   \n",
       "4          20.05.2016       132.0111.00   \n",
       "...               ...               ...   \n",
       "17714      06.12.2021       134.1000.03   \n",
       "17715      17.01.2022       134.1000.03   \n",
       "17716      17.01.2022       134.1000.03   \n",
       "17717      17.01.2022       134.1000.03   \n",
       "17718      17.01.2022       134.1000.03   \n",
       "\n",
       "                      Наименование вида расходов  \\\n",
       "0              Оплата потребления электроэнергии   \n",
       "1              Оплата потребления электроэнергии   \n",
       "2              Оплата потребления электроэнергии   \n",
       "3              Оплата потребления электроэнергии   \n",
       "4              Оплата потребления электроэнергии   \n",
       "...                                          ...   \n",
       "17714  Оплата услуг водоснабжения, водоотведения   \n",
       "17715  Оплата услуг водоснабжения, водоотведения   \n",
       "17716  Оплата услуг водоснабжения, водоотведения   \n",
       "17717  Оплата услуг водоснабжения, водоотведения   \n",
       "17718  Оплата услуг водоснабжения, водоотведения   \n",
       "\n",
       "                                    Направление расходов  Отнесено  \\\n",
       "0                                  .  ул. Мордовцева, 6.  16294.01   \n",
       "1                                     ул.Светланская, 73  32149.60   \n",
       "2                                     ул.Светланская, 73  36805.90   \n",
       "3                                     ул.Светланская, 73  27244.49   \n",
       "4                                     ул.Светланская, 73  24548.76   \n",
       "...                                                  ...       ...   \n",
       "17714  0000 Оплата за водоотведение по тарифам ание г...    382.67   \n",
       "17715  ЗО  Столовая Хабаровск. Оплата за водоотведени...   1604.80   \n",
       "17716  ЗО  Столовая Хабаровск. Оплата за водоотведени...    400.93   \n",
       "17717  ЗО  Столовая Хабаровск. Оплата за холодное вод...    380.25   \n",
       "17718  ЗО  Столовая Хабаровск. Оплата за холодное вод...   2081.38   \n",
       "\n",
       "                                        Подразделение БР  \\\n",
       "0      Дальневосточное главное управление Центральног...   \n",
       "1      Дальневосточное главное управление Центральног...   \n",
       "2      Дальневосточное главное управление Центральног...   \n",
       "3      Дальневосточное главное управление Центральног...   \n",
       "4      Дальневосточное главное управление Центральног...   \n",
       "...                                                  ...   \n",
       "17714  Отделение по Хабаровскому краю Дальневосточног...   \n",
       "17715  Отделение по Хабаровскому краю Дальневосточног...   \n",
       "17716  Отделение по Хабаровскому краю Дальневосточног...   \n",
       "17717  Отделение по Хабаровскому краю Дальневосточног...   \n",
       "17718  Отделение по Хабаровскому краю Дальневосточног...   \n",
       "\n",
       "                                           Адрес объекта  \n",
       "0             [{'value': 'Мордовцева', 'type': 'улица'}]  \n",
       "1            [{'value': 'Светланская', 'type': 'улица'}]  \n",
       "2            [{'value': 'Светланская', 'type': 'улица'}]  \n",
       "3            [{'value': 'Светланская', 'type': 'улица'}]  \n",
       "4            [{'value': 'Светланская', 'type': 'улица'}]  \n",
       "...                                                  ...  \n",
       "17714  [{'value': 'Хабаровск', 'type': 'город'}, {'va...  \n",
       "17715  [{'value': 'Хабаровск'}, {'value': 'Хабаровск'...  \n",
       "17716  [{'value': 'Хабаровск'}, {'value': 'Хабаровск'...  \n",
       "17717  [{'value': 'Хабаровск'}, {'value': 'Хабаровск'...  \n",
       "17718  [{'value': 'Хабаровск'}, {'value': 'Хабаровск'...  \n",
       "\n",
       "[17719 rows x 7 columns]"
      ]
     },
     "execution_count": 31,
     "metadata": {},
     "output_type": "execute_result"
    }
   ],
   "source": [
    "expenses_data"
   ]
  }
 ],
 "metadata": {
  "kernelspec": {
   "display_name": "Python 3",
   "language": "python",
   "name": "python3"
  },
  "language_info": {
   "codemirror_mode": {
    "name": "ipython",
    "version": 3
   },
   "file_extension": ".py",
   "mimetype": "text/x-python",
   "name": "python",
   "nbconvert_exporter": "python",
   "pygments_lexer": "ipython3",
   "version": "3.11.2"
  }
 },
 "nbformat": 4,
 "nbformat_minor": 2
}
