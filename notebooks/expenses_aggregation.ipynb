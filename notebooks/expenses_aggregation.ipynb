{
 "cells": [
  {
   "cell_type": "code",
   "execution_count": 1,
   "metadata": {},
   "outputs": [],
   "source": [
    "import pandas as pd\n",
    "import os\n",
    "import glob\n",
    "import re\n",
    "from natasha import MorphVocab, AddrExtractor"
   ]
  },
  {
   "cell_type": "code",
   "execution_count": 2,
   "metadata": {},
   "outputs": [],
   "source": [
    "data_path = '../data/'"
   ]
  },
  {
   "cell_type": "code",
   "execution_count": 3,
   "metadata": {},
   "outputs": [
    {
     "name": "stdout",
     "output_type": "stream",
     "text": [
      "(23150, 10)\n"
     ]
    }
   ],
   "source": [
    "exp_files = glob.glob(os.path.join(data_path + 'preprocessed/Expenses', '*.feather'))\n",
    "exp_dfs = []\n",
    "for filename in exp_files:\n",
    "    exp_dfs.append(pd.read_feather(filename))\n",
    "expenses_data = pd.concat(exp_dfs, axis=0, ignore_index=True)\n",
    "print(expenses_data.shape)"
   ]
  },
  {
   "cell_type": "code",
   "execution_count": 4,
   "metadata": {},
   "outputs": [
    {
     "data": {
      "text/plain": [
       "Год сметы                        1\n",
       "Смета                           13\n",
       "Подразделение БР                20\n",
       "Код статьи                       1\n",
       "Код вида расходов                5\n",
       "Наименование вида расходов       5\n",
       "Направление расходов           249\n",
       "Отнесено                      2620\n",
       "Конечный остаток              2620\n",
       "Дата проведения                213\n",
       "dtype: int64"
      ]
     },
     "execution_count": 4,
     "metadata": {},
     "output_type": "execute_result"
    }
   ],
   "source": [
    "unqie_values = expenses_data[expenses_data['Год сметы'] == '2020'].apply(pd.Series.nunique)\n",
    "unqie_values"
   ]
  },
  {
   "cell_type": "code",
   "execution_count": 5,
   "metadata": {},
   "outputs": [],
   "source": [
    "expenses_data = expenses_data[expenses_data.columns.difference(unqie_values[unqie_values == 1].index)]"
   ]
  },
  {
   "cell_type": "code",
   "execution_count": 6,
   "metadata": {},
   "outputs": [
    {
     "data": {
      "text/plain": [
       "0"
      ]
     },
     "execution_count": 6,
     "metadata": {},
     "output_type": "execute_result"
    }
   ],
   "source": [
    "expenses_data[expenses_data['Конечный остаток'] != expenses_data['Отнесено']].shape[0]"
   ]
  },
  {
   "cell_type": "code",
   "execution_count": 7,
   "metadata": {},
   "outputs": [],
   "source": [
    "expenses_data.drop(columns=['Конечный остаток', 'Смета'], inplace=True)"
   ]
  },
  {
   "cell_type": "code",
   "execution_count": 8,
   "metadata": {},
   "outputs": [
    {
     "data": {
      "text/plain": [
       "Код вида расходов\n",
       "15    23150\n",
       "Name: count, dtype: int64"
      ]
     },
     "execution_count": 8,
     "metadata": {},
     "output_type": "execute_result"
    }
   ],
   "source": [
    "expenses_data['Код вида расходов'].apply(len).value_counts()"
   ]
  },
  {
   "cell_type": "code",
   "execution_count": 9,
   "metadata": {},
   "outputs": [
    {
     "data": {
      "text/plain": [
       "Код вида расходов\n",
       "True    23150\n",
       "Name: count, dtype: int64"
      ]
     },
     "execution_count": 9,
     "metadata": {},
     "output_type": "execute_result"
    }
   ],
   "source": [
    "expenses_data['Код вида расходов'].apply(lambda c: c[-4:] == '0000').value_counts()"
   ]
  },
  {
   "cell_type": "code",
   "execution_count": 10,
   "metadata": {},
   "outputs": [],
   "source": [
    "expenses_data['Код вида расходов'] = expenses_data['Код вида расходов'].apply(lambda c: c[:-4])"
   ]
  },
  {
   "cell_type": "code",
   "execution_count": 11,
   "metadata": {},
   "outputs": [],
   "source": [
    "expenses_data['Направление расходов'] = expenses_data.apply(\n",
    "    lambda exp: exp['Направление расходов']\\\n",
    "        .replace(exp['Наименование вида расходов'], '')\\\n",
    "        .replace(exp['Код вида расходов'], '')\\\n",
    "        .replace('ст.' + exp['Код вида расходов'][:-3], '')\\\n",
    "        .replace(exp['Код вида расходов'][:-3], '')\\\n",
    "        .replace('Расходы прошлого года', '')\\\n",
    "        .replace('зд', '').replace('Здание', '')\\\n",
    "        .replace('Гараж', '').replace('Пристройка', '')\n",
    "        .strip(), axis=1\n",
    ")"
   ]
  },
  {
   "cell_type": "code",
   "execution_count": 12,
   "metadata": {},
   "outputs": [],
   "source": [
    "addr_extractor = AddrExtractor(MorphVocab())\n",
    "\n",
    "expenses_data['Адрес объекта'] = expenses_data['Направление расходов'].apply(\n",
    "    lambda x: [i.fact.as_json for i in addr_extractor(x)]\n",
    ")"
   ]
  },
  {
   "cell_type": "code",
   "execution_count": 13,
   "metadata": {},
   "outputs": [
    {
     "data": {
      "text/plain": [
       "0.23460043196544275"
      ]
     },
     "execution_count": 13,
     "metadata": {},
     "output_type": "execute_result"
    }
   ],
   "source": [
    "expenses_data[expenses_data['Адрес объекта'].apply(lambda l: l == [])].shape[0] / 23150"
   ]
  },
  {
   "cell_type": "code",
   "execution_count": 19,
   "metadata": {},
   "outputs": [
    {
     "data": {
      "text/plain": [
       "Код вида расходов\n",
       "132.0113.00    2419\n",
       "132.0111.00    1267\n",
       "132.0112.00     921\n",
       "134.1100.00     420\n",
       "134.1000.03     128\n",
       "134.1100.03      75\n",
       "132.0114.00      43\n",
       "134.1000.02      43\n",
       "134.1100.01      38\n",
       "134.1000.01      38\n",
       "134.1100.02      36\n",
       "134.1100.05       2\n",
       "134.1000.05       1\n",
       "Name: count, dtype: int64"
      ]
     },
     "execution_count": 19,
     "metadata": {},
     "output_type": "execute_result"
    }
   ],
   "source": [
    "expenses_data.loc[expenses_data['Адрес объекта'].apply(lambda l: l == []), 'Код вида расходов'].value_counts()"
   ]
  },
  {
   "cell_type": "code",
   "execution_count": 26,
   "metadata": {},
   "outputs": [
    {
     "data": {
      "text/plain": [
       "Направление расходов\n",
       "Другие расходы.Оплата водоснабжения                                           120\n",
       "                                                                               81\n",
       "Оплата водоотведения                                                           78\n",
       "Оплата водоснабжения                                                           73\n",
       "Другие расходы.Оплата водоотведения                                            63\n",
       "                                                                             ... \n",
       ". ул.Тихоокеанская, 175А                                                        1\n",
       "Оплата за горячее водоснабжение, ул Пролетарская 17 (гараж)  - Отд Магадан      1\n",
       "гараж, ул. Пролетарская, 8                                                      1\n",
       ", признанные после отчетной даты..Вилючинск, м-н Центральный, 5                 1\n",
       ".  ул. Южная                                                                    1\n",
       "Name: count, Length: 276, dtype: int64"
      ]
     },
     "execution_count": 26,
     "metadata": {},
     "output_type": "execute_result"
    }
   ],
   "source": [
    "expenses_data.loc[expenses_data['Код вида расходов'] == '132.0113.00', 'Направление расходов'].value_counts()"
   ]
  },
  {
   "cell_type": "code",
   "execution_count": 27,
   "metadata": {},
   "outputs": [],
   "source": [
    "expenses_data = expenses_data[~expenses_data['Адрес объекта'].apply(lambda l: l == [])].reset_index(drop=True)"
   ]
  },
  {
   "cell_type": "code",
   "execution_count": 62,
   "metadata": {},
   "outputs": [
    {
     "data": {
      "text/plain": [
       "0               [{'value': 'Мордовцева', 'type': 'улица'}]\n",
       "1              [{'value': 'Светланская', 'type': 'улица'}]\n",
       "2              [{'value': 'Светланская', 'type': 'улица'}]\n",
       "3              [{'value': 'Светланская', 'type': 'улица'}]\n",
       "4              [{'value': 'Светланская', 'type': 'улица'}]\n",
       "                               ...                        \n",
       "17714    [{'value': 'Хабаровск', 'type': 'город'}, {'va...\n",
       "17715    [{'value': 'Хабаровск', 'type': 'город'}, {'va...\n",
       "17716    [{'value': 'Хабаровск', 'type': 'город'}, {'va...\n",
       "17717    [{'value': 'Хабаровск', 'type': 'город'}, {'va...\n",
       "17718    [{'value': 'Хабаровск', 'type': 'город'}, {'va...\n",
       "Name: Адрес объекта, Length: 17719, dtype: object"
      ]
     },
     "execution_count": 62,
     "metadata": {},
     "output_type": "execute_result"
    },
    {
     "ename": "",
     "evalue": "",
     "output_type": "error",
     "traceback": [
      "\u001b[1;31mThe Kernel crashed while executing code in the the current cell or a previous cell. Please review the code in the cell(s) to identify a possible cause of the failure. Click <a href='https://aka.ms/vscodeJupyterKernelCrash'>here</a> for more info. View Jupyter <a href='command:jupyter.viewOutput'>log</a> for further details."
     ]
    }
   ],
   "source": [
    "expenses_data['Адрес объекта'].apply(\n",
    "    lambda x: [addr_part for addr_part in x if len(addr_part) > 1]\n",
    ")"
   ]
  },
  {
   "cell_type": "code",
   "execution_count": null,
   "metadata": {},
   "outputs": [],
   "source": [
    "# сделать дубль колонки, заполнение вниз\n",
    "# по исходной колонке удалить Итого"
   ]
  }
 ],
 "metadata": {
  "kernelspec": {
   "display_name": "Python 3",
   "language": "python",
   "name": "python3"
  },
  "language_info": {
   "codemirror_mode": {
    "name": "ipython",
    "version": 3
   },
   "file_extension": ".py",
   "mimetype": "text/x-python",
   "name": "python",
   "nbconvert_exporter": "python",
   "pygments_lexer": "ipython3",
   "version": "3.11.2"
  }
 },
 "nbformat": 4,
 "nbformat_minor": 2
}
