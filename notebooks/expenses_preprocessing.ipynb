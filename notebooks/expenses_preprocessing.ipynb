{
 "cells": [
  {
   "cell_type": "code",
   "execution_count": 1,
   "metadata": {},
   "outputs": [],
   "source": [
    "import pandas as pd\n",
    "import os\n",
    "import glob\n",
    "import re\n",
    "import string\n",
    "from typing import Iterable"
   ]
  },
  {
   "cell_type": "code",
   "execution_count": 2,
   "metadata": {},
   "outputs": [],
   "source": [
    "data_path = '../data/'"
   ]
  },
  {
   "cell_type": "code",
   "execution_count": 3,
   "metadata": {},
   "outputs": [
    {
     "name": "stdout",
     "output_type": "stream",
     "text": [
      "(23150, 11)\n"
     ]
    }
   ],
   "source": [
    "exp_files = glob.glob(os.path.join(data_path + 'train_data/Expenses', '*.xlsx'))\n",
    "exp_dfs = []\n",
    "for filename in exp_files:\n",
    "    exp_dfs.append(pd.read_excel(filename, sheet_name='Таблица1'))\n",
    "expenses_data = pd.concat(exp_dfs, axis=0, ignore_index=True)\n",
    "print(expenses_data.shape)"
   ]
  },
  {
   "cell_type": "code",
   "execution_count": 4,
   "metadata": {},
   "outputs": [],
   "source": [
    "# expenses_data.to_feather(data_path + 'expenses_concatenated.frt')"
   ]
  },
  {
   "cell_type": "code",
   "execution_count": 5,
   "metadata": {},
   "outputs": [
    {
     "data": {
      "text/plain": [
       "Итого                          249\n",
       "Год сметы                        1\n",
       "Смета                           13\n",
       "Подразделение БР                20\n",
       "Код статьи                       1\n",
       "Код вида расходов                5\n",
       "Наименование вида расходов       5\n",
       "Направление расходов           249\n",
       "Отнесено                      2620\n",
       "Конечный остаток              2620\n",
       "Дата проведения                213\n",
       "dtype: int64"
      ]
     },
     "execution_count": 5,
     "metadata": {},
     "output_type": "execute_result"
    }
   ],
   "source": [
    "unqie_values = expenses_data[expenses_data['Год сметы'] == 2020].apply(pd.Series.nunique)\n",
    "unqie_values"
   ]
  },
  {
   "cell_type": "code",
   "execution_count": 6,
   "metadata": {},
   "outputs": [],
   "source": [
    "expenses_data = expenses_data[expenses_data.columns.difference(unqie_values[unqie_values == 1].index)]"
   ]
  },
  {
   "cell_type": "code",
   "execution_count": 7,
   "metadata": {},
   "outputs": [
    {
     "data": {
      "text/plain": [
       "0"
      ]
     },
     "execution_count": 7,
     "metadata": {},
     "output_type": "execute_result"
    }
   ],
   "source": [
    "expenses_data[expenses_data['Конечный остаток'] != expenses_data['Отнесено']].shape[0]"
   ]
  },
  {
   "cell_type": "code",
   "execution_count": 8,
   "metadata": {},
   "outputs": [],
   "source": [
    "expenses_data.drop(columns=['Конечный остаток', 'Смета'], inplace=True)"
   ]
  },
  {
   "cell_type": "code",
   "execution_count": 9,
   "metadata": {},
   "outputs": [
    {
     "data": {
      "text/plain": [
       "Код вида расходов\n",
       "15    23150\n",
       "Name: count, dtype: int64"
      ]
     },
     "execution_count": 9,
     "metadata": {},
     "output_type": "execute_result"
    }
   ],
   "source": [
    "expenses_data['Код вида расходов'].apply(len).value_counts()"
   ]
  },
  {
   "cell_type": "code",
   "execution_count": 10,
   "metadata": {},
   "outputs": [
    {
     "data": {
      "text/plain": [
       "Код вида расходов\n",
       "True    23150\n",
       "Name: count, dtype: int64"
      ]
     },
     "execution_count": 10,
     "metadata": {},
     "output_type": "execute_result"
    }
   ],
   "source": [
    "expenses_data['Код вида расходов'].apply(lambda c: c[-4:] == '0000').value_counts()"
   ]
  },
  {
   "cell_type": "code",
   "execution_count": 11,
   "metadata": {},
   "outputs": [],
   "source": [
    "expenses_data['Код вида расходов'] = expenses_data['Код вида расходов'].apply(lambda c: c[:-4])"
   ]
  },
  {
   "cell_type": "code",
   "execution_count": 12,
   "metadata": {},
   "outputs": [],
   "source": [
    "def remove_multiple_spaces(text: str):\n",
    "    return re.sub(r'\\s+', ' ', text)"
   ]
  },
  {
   "cell_type": "code",
   "execution_count": 13,
   "metadata": {},
   "outputs": [],
   "source": [
    "expenses_data['Итого'] = expenses_data.Итого.apply(\n",
    "    lambda addr: remove_multiple_spaces(addr)\n",
    ")"
   ]
  },
  {
   "cell_type": "code",
   "execution_count": 14,
   "metadata": {},
   "outputs": [],
   "source": [
    "expenses_data['Итого'] = expenses_data.apply(\n",
    "    lambda exp: exp['Итого']\\\n",
    "        .replace('Итого по направлению - ', '')\\\n",
    "        .replace(exp['Наименование вида расходов'], '')\\\n",
    "        .replace(exp['Код вида расходов'], '')\\\n",
    "        .replace('ст.' + exp['Код вида расходов'][:-3], '')\\\n",
    "        .replace(exp['Код вида расходов'][:-3], '')\\\n",
    "        .replace('Расходы прошлого года', '')\\\n",
    "        .strip(), axis=1\n",
    ")\n",
    "expenses_data['Итого'] = expenses_data.Итого.apply(\n",
    "    lambda addr: remove_multiple_spaces(addr)\n",
    ")"
   ]
  },
  {
   "cell_type": "code",
   "execution_count": 15,
   "metadata": {},
   "outputs": [],
   "source": [
    "rubbish_patterns = [\n",
    "    'оплата',\n",
    "    'расходы'\n",
    "]\n",
    "\n",
    "expenses_data[\n",
    "    expenses_data.Итого.apply(\n",
    "        lambda addr: any(patt in addr.lower() for patt in rubbish_patterns)\n",
    "        )\n",
    "    ].Итого.to_clipboard()"
   ]
  },
  {
   "cell_type": "code",
   "execution_count": 16,
   "metadata": {},
   "outputs": [],
   "source": [
    "def remove_value_from_str(text: str, values: Iterable) -> str:\n",
    "    for value in values:\n",
    "        text = text.replace(value, '')\n",
    "    return text\n",
    "\n",
    "\n",
    "def remove_text_in_brackets(text: str) -> str:\n",
    "    return re.sub(\"[\\(\\[].*?[\\)\\]]\", \"\", text)"
   ]
  },
  {
   "cell_type": "code",
   "execution_count": 17,
   "metadata": {},
   "outputs": [],
   "source": [
    "to_remove = [\n",
    "    'Расходы на коммунальные услуги',\n",
    "    'Оплата потребления газа',\n",
    "    'Оплата за потребление газа',\n",
    "    'Оплата за электроэнергию по тарифам',\n",
    "    'Оплатата потребления электроэнергии',\n",
    "    'Оплата за эектроэнергию',\n",
    "    'Оплата за тепловую энергию',\n",
    "    'Тепловая энергия',\n",
    "    'Плата за технологическое присоед. к электрическим сетям',\n",
    "    'Оплата потребления электроэнерги',\n",
    "    'Оплата за потребление тепловой энергии',\n",
    "    'Оплата водоотведения, канализации',\n",
    "    'Оплата водоотведения',\n",
    "    'Оплата водоотведения',\n",
    "    'Оплата водоотведение',\n",
    "    'Оплата за водоотведение',\n",
    "    'Оплата за горячее водоснабжение',\n",
    "    'Оплата горячее водоснабжение',\n",
    "    'Оплата горячего водоснабжения',\n",
    "    'Оплата горячево водоснабжения',\n",
    "    'Оплата горячее водоснабжения',\n",
    "    'Оплата горячего водоснабжение',\n",
    "    'Оплата услуг за горячее водоснабжение',\n",
    "    'Оплата за услуги горячего водоснабжения',\n",
    "    'Оплата за услуги холодного водоснабжения',\n",
    "    'Оплата услуг водоотведения',\n",
    "    'Оплата за водоснабжение',\n",
    "    'Оплата холодного водоснабжения',\n",
    "    'Оплата холодное водоснабжение',\n",
    "    'Оплата холодное водоснабжения',\n",
    "    'Оплата за холодное водоснабжение',\n",
    "    'Оплата водоснабжения',\n",
    "    'Оплата канализации',\n",
    "    'Оплата за канализацию',\n",
    "    'Оплата за услуги водоотведения',\n",
    "    'Канализация',\n",
    "    'Водоснабжение холодная вода',\n",
    "    'Холодное водоснабжение',\n",
    "    'Холодная вода',\n",
    "    'Горячее водоснабжение',\n",
    "    'Горячее водоснабжения',\n",
    "    'Водоснабжение горячая вода',\n",
    "    'Водоотведение',\n",
    "    'Другие расходы',\n",
    "    'Оплата потребления эл.энергии',\n",
    "    'Затраты на горячее водоснабжение',\n",
    "    'Затраты на холодное водоснабжение',\n",
    "    'Затраты на канализацию',\n",
    "    'затраты на дизельное топливо',\n",
    "    'Оплата за дизельное топливо',\n",
    "    'Оплата за прочие виды топлиа (уголь, дрова и т.д.)',\n",
    "    'прошлых лет, выявленные в текущем году',\n",
    "    'признанные после отчетной даты',\n",
    "    'по тарифам',\n",
    "    'Расходы по оплате отопления',\n",
    "    'Расходы по приобретению дизельного топлива',\n",
    "    'Расходы по оплате водоотведения',\n",
    "    'Расходы по оплате холодного водоснабжения',\n",
    "    'Расходы по оплате услуг за холодное водоснабжение',\n",
    "    'расходы по оплате услуг за холодное водоснабжение',\n",
    "    'Плата за сброс сточных вод',\n",
    "    'Плата за негативное воздействие на централ.систему водоотведения',\n",
    "    'Осн.здание.',\n",
    "    'квартира',\n",
    "    'ГАРАЖНОЕ помещение',\n",
    "    'ГАРАЖ-БОКС',\n",
    "    'ГАРАЖ',\n",
    "    'Гаражный бокс',\n",
    "    'Гараж',\n",
    "    'гаражи, боксы № 9, 10',\n",
    "    '(бокс №1, №2)',\n",
    "    '№ 5',\n",
    "    'гаражный бокс',\n",
    "    'гараж',\n",
    "    'СКЛАД',\n",
    "    'Склады хоз.зоны',\n",
    "    'Склад',\n",
    "    'склад',\n",
    "    'Админ. здание',\n",
    "    'ЗДАНИЕ',\n",
    "    'здание',\n",
    "    'здания',\n",
    "    'Здание',\n",
    "    'зд.',\n",
    "    'Отделения',\n",
    "    'Отд',\n",
    "    'пристройка',\n",
    "    'помещение объект № 2',\n",
    "    'СУЖЕБНОЕ ПОМЕЩЕНИЕ',\n",
    "    'служебное',\n",
    "    'Служебное помещение',\n",
    "    'нежилые помещения',\n",
    "    'нежилое помещение',\n",
    "    'Контрольно-пропускной пункт',\n",
    "    'Контрольно-пропускной',\n",
    "    'функц. помещение',\n",
    "    'Убежище',\n",
    "    'Здарвпункт',\n",
    "    'Врачебный здравпункт',\n",
    "    '(здравпункт)',\n",
    "    'СТОЛ',\n",
    "    'Столовая',\n",
    "    'столовая',\n",
    "    'БУФЕТ',\n",
    "    'Буфет',\n",
    "    'буфет',\n",
    "    'ПРЭ',\n",
    "    'Спальный корпус',\n",
    "    'Спальный',\n",
    "    'Пристройка к Спальному корпусу',\n",
    "    'Присторойка к спальному корпусу',\n",
    "    'Пристройка спального корпуса',\n",
    "    'Пристройка спального',\n",
    "    'Клуб',\n",
    "    'Лечебный корпус',\n",
    "    'Лечебный',\n",
    "    'Лечебное отделение',\n",
    "    'Лыжная станция',\n",
    "    'Теплица',\n",
    "    'Контора хоз.части',\n",
    "    'База РСГ',\n",
    "    'База МТО',\n",
    "    'База РСО',\n",
    "    'Пляж',\n",
    "    'Сторожка пляжа',\n",
    "    'Котельная',\n",
    "    'Здравпункт',\n",
    "    'шахт.канализ.станция',\n",
    "    'шахтн. канализац. станция',\n",
    "    'спец.подвал',\n",
    "    'сопка',\n",
    "    'МЗССС',\n",
    "    'Помещение объект',\n",
    "    'Помещение Объект',\n",
    "    '№ 2', '№2',\n",
    "    'Пристройка к зданию',\n",
    "    'Пристройка',\n",
    "    'Административное',\n",
    "    'ст.1341100',\n",
    "    '134.11100.03000',\n",
    "    '134,1000,02',\n",
    "    'жилой подъезд',\n",
    "    'на 10 автомобилей',\n",
    "    'на 10 а/м',\n",
    "    'Плата за технологическое присоединение к электрическим сетям (в случаях, не связанным со строительством,реконстр. и кап.ремонтом',\n",
    "    'Плата за технологическое присоединение к электрическим сетям',\n",
    "    'дизель-генераторная установка',\n",
    "    '0000',\n",
    "    'Администр',\n",
    "    '№ 2', '№ 1',\n",
    "    'часть жилого',\n",
    "    'ЗО',\n",
    "    'ДГУ',\n",
    "    '«Технологическое присоединение»',\n",
    "    'ЕАО',\n",
    "    'Расходы по оплате',\n",
    "    'электроэнергию',\n",
    "    'ХВС',\n",
    "    'ГВС',\n",
    "    'Общежитие',\n",
    "    'Хаб. коммунальных услуг',\n",
    "    'РКЦ',\n",
    "    '02'\n",
    "]\n",
    "\n",
    "expenses_data['Итого'] = expenses_data.Итого.apply(\n",
    "    lambda addr: remove_text_in_brackets(remove_value_from_str(addr, to_remove))\n",
    ")\n",
    "\n",
    "puncts_translator = str.maketrans(string.punctuation, ' ' * len(string.punctuation))\n",
    "\n",
    "expenses_data['Итого'] = expenses_data.Итого.apply(\n",
    "    lambda addr: remove_multiple_spaces(addr.translate(puncts_translator)).lower().strip()\n",
    ")"
   ]
  },
  {
   "cell_type": "code",
   "execution_count": 18,
   "metadata": {},
   "outputs": [],
   "source": [
    "expenses_data = expenses_data[expenses_data.Итого != ''].reset_index(drop=True)"
   ]
  },
  {
   "cell_type": "code",
   "execution_count": 19,
   "metadata": {},
   "outputs": [
    {
     "data": {
      "text/plain": [
       "389"
      ]
     },
     "execution_count": 19,
     "metadata": {},
     "output_type": "execute_result"
    }
   ],
   "source": [
    "expenses_data.Итого.nunique()"
   ]
  },
  {
   "cell_type": "code",
   "execution_count": null,
   "metadata": {},
   "outputs": [],
   "source": []
  }
 ],
 "metadata": {
  "kernelspec": {
   "display_name": "Python 3",
   "language": "python",
   "name": "python3"
  },
  "language_info": {
   "codemirror_mode": {
    "name": "ipython",
    "version": 3
   },
   "file_extension": ".py",
   "mimetype": "text/x-python",
   "name": "python",
   "nbconvert_exporter": "python",
   "pygments_lexer": "ipython3",
   "version": "3.11.2"
  }
 },
 "nbformat": 4,
 "nbformat_minor": 2
}
