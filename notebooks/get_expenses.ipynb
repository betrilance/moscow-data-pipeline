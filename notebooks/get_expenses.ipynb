{
 "cells": [
  {
   "cell_type": "code",
   "execution_count": 1,
   "id": "181ce93a-dff1-470f-a46e-88d873d991d5",
   "metadata": {},
   "outputs": [],
   "source": [
    "import pandas as pd\n",
    "import openpyxl\n",
    "from openpyxl import load_workbook\n",
    "import os"
   ]
  },
  {
   "cell_type": "code",
   "execution_count": 7,
   "id": "40931d47-5a51-45db-b0e2-2338df4c8e44",
   "metadata": {},
   "outputs": [],
   "source": [
    "def get_expenses_data(file_name, sheet_name='TDSheet', color='00000000'):\n",
    "\n",
    "    '''\n",
    "    Выгружаем данные из Expenses\n",
    "\n",
    "    Input:\n",
    "    - file_name: str: имя файла\n",
    "    - sheet_name: str: имя листа, TDSheet по умолчанию\n",
    "    - color: str: цвет выгружаемых строк в формате ARGB, 00000000 (белый) по умолчанию\n",
    "\n",
    "    Output:\n",
    "    - out: pd.DataFrame: выгруженный датафрейм\n",
    "    '''\n",
    "    \n",
    "    wb = load_workbook(os.path.abspath(file_name), data_only=True)\n",
    "    sh = wb[sheet_name]\n",
    "    \n",
    "    out = []\n",
    "    for idx, row in enumerate(sh):\n",
    "        \n",
    "        if idx <= 8:\n",
    "            continue\n",
    "            \n",
    "        if (row[0].fill.start_color.index == '00000000'): #or (idx == 9):\n",
    "            out.append([row[i].value for i in range(len(row))])\n",
    "            \n",
    "    \n",
    "    out = pd.DataFrame(out, columns=out[0]).iloc[1:, 1:].reset_index(drop=True)\n",
    "    out.drop(columns='Начальный остаток', inplace=True)\n",
    "    \n",
    "    # убираем старые значения на конец года\n",
    "    if file_name == '2020_old_base.xlsx':\n",
    "        out = out[out['Дата проведения'] != '31.12.2020'].reset_index(drop=True)\n",
    "\n",
    "    return out"
   ]
  },
  {
   "cell_type": "code",
   "execution_count": 9,
   "id": "9bd80e01-d480-4f83-8bfd-bffc74af06ca",
   "metadata": {},
   "outputs": [],
   "source": [
    "get_expenses_data('2021.xlsx').to_feather('2021.feather')"
   ]
  }
 ],
 "metadata": {
  "kernelspec": {
   "display_name": "Python 3",
   "language": "python",
   "name": "python3"
  },
  "language_info": {
   "codemirror_mode": {
    "name": "ipython",
    "version": 3
   },
   "file_extension": ".py",
   "mimetype": "text/x-python",
   "name": "python",
   "nbconvert_exporter": "python",
   "pygments_lexer": "ipython3",
   "version": "3.11.2"
  }
 },
 "nbformat": 4,
 "nbformat_minor": 5
}
